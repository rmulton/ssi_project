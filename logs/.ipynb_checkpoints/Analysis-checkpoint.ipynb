{
 "cells": [
  {
   "cell_type": "code",
   "execution_count": null,
   "metadata": {},
   "outputs": [],
   "source": []
  },
  {
   "cell_type": "code",
   "execution_count": null,
   "metadata": {
    "collapsed": true
   },
   "outputs": [],
   "source": []
  },
  {
   "cell_type": "code",
   "execution_count": null,
   "metadata": {
    "collapsed": true
   },
   "outputs": [],
   "source": []
  },
  {
   "cell_type": "code",
   "execution_count": 4,
   "metadata": {
    "collapsed": true
   },
   "outputs": [],
   "source": [
    "def parse_log(file_content):\n",
    "    content_split = file_content.split('\\n\\n')[1:]\n",
    "    content_split[0] = '\\n'+content_split[0]\n",
    "    content_split\n",
    "    all_pkt = []\n",
    "    for pkt in content_split:\n",
    "        pkt_split = pkt.split('.')\n",
    "        meta = pkt_split[0].split('\\n')\n",
    "        if meta[1]!='':\n",
    "            time = meta[1]\n",
    "            chan = meta[2]\n",
    "            rate = meta[3]\n",
    "            content_pkt_split = pkt_split[1].split('\\n')\n",
    "            content = ''\n",
    "            for el in content_pkt_split[1:]:\n",
    "                content += el[2:]+' '\n",
    "            new_pkt = {\n",
    "                'time':time,\n",
    "                'chan':chan,\n",
    "                'data_rate':rate,\n",
    "                'content': content,\n",
    "                'devices': {}\n",
    "            }\n",
    "            all_pkt += [new_pkt]\n",
    "    return all_pkt"
   ]
  },
  {
   "cell_type": "code",
   "execution_count": 5,
   "metadata": {},
   "outputs": [
    {
     "ename": "NameError",
     "evalue": "name 'content' is not defined",
     "output_type": "error",
     "traceback": [
      "\u001b[1;31m---------------------------------------------------------------------------\u001b[0m",
      "\u001b[1;31mNameError\u001b[0m                                 Traceback (most recent call last)",
      "\u001b[1;32m<ipython-input-5-b0e6e5dde279>\u001b[0m in \u001b[0;36m<module>\u001b[1;34m()\u001b[0m\n\u001b[1;32m----> 1\u001b[1;33m \u001b[0mall_pkt\u001b[0m \u001b[1;33m=\u001b[0m \u001b[0mparse_log\u001b[0m\u001b[1;33m(\u001b[0m\u001b[0mcontent\u001b[0m\u001b[1;33m)\u001b[0m\u001b[1;33m\u001b[0m\u001b[0m\n\u001b[0m",
      "\u001b[1;31mNameError\u001b[0m: name 'content' is not defined"
     ]
    }
   ],
   "source": [
    "all_pkt = parse_log(content)"
   ]
  },
  {
   "cell_type": "code",
   "execution_count": 6,
   "metadata": {
    "collapsed": true
   },
   "outputs": [],
   "source": [
    "def reverse(addr):\n",
    "    addr = addr.split(' ')\n",
    "    addr = addr[::-1]\n",
    "    reversed_addr = ''\n",
    "    for num in addr:\n",
    "        reversed_addr += num + ' '\n",
    "    reversed_addr = reversed_addr[:-1]\n",
    "    return reversed_addr\n",
    "\n",
    "#print(reverse(devices['Muvo'])=='f1 b0 5c 3c 02 00')\n",
    "def find_devices(pkt_list, devices):\n",
    "    for pkt in pkt_list:\n",
    "        for name, addr in devices.items():\n",
    "            if addr in pkt['content'] or reverse(addr) in pkt['content']:\n",
    "                if name in pkt['devices']:\n",
    "                    pkt['devices'][name] += 1\n",
    "                else:\n",
    "                    pkt['devices'][name] = 1\n",
    "    return pkt_list"
   ]
  },
  {
   "cell_type": "code",
   "execution_count": null,
   "metadata": {
    "collapsed": true
   },
   "outputs": [],
   "source": []
  },
  {
   "cell_type": "code",
   "execution_count": 7,
   "metadata": {
    "collapsed": true
   },
   "outputs": [],
   "source": [
    "def count_devices(all_pkt, devices):\n",
    "    count = {}\n",
    "    for pkt in all_pkt:\n",
    "        for name in devices.keys():\n",
    "            if name in pkt['devices'].keys():\n",
    "                if name in count.keys():\n",
    "                    count[name] += 1\n",
    "                else:\n",
    "                    count[name] = 0\n",
    "    return count, len(all_pkt)"
   ]
  },
  {
   "cell_type": "code",
   "execution_count": null,
   "metadata": {
    "collapsed": true
   },
   "outputs": [],
   "source": []
  },
  {
   "cell_type": "code",
   "execution_count": 8,
   "metadata": {
    "collapsed": true
   },
   "outputs": [],
   "source": [
    "def summarise(log_filepath, devices):\n",
    "    log_file = open(log_filepath, 'r')\n",
    "    content = log_file.read()\n",
    "    packets = parse_log(content)\n",
    "    if packets:\n",
    "        packets = find_devices(packets, devices)\n",
    "        return count_devices(packets, devices)\n",
    "    else:\n",
    "        return {}, 0"
   ]
  },
  {
   "cell_type": "code",
   "execution_count": 10,
   "metadata": {},
   "outputs": [
    {
     "name": "stdout",
     "output_type": "stream",
     "text": [
      "C:\\Users\\robin\\code\\ssi\\ssi_project\\logs\n",
      "['.ipynb_checkpoints', '24-11-2017', 'Analysis.ipynb', 'connect_bt', 'connect_muvo', 'soir_exp']\n"
     ]
    },
    {
     "data": {
      "text/plain": [
       "({'UE boom': 104, 'iphone robin': 93}, 119)"
      ]
     },
     "execution_count": 10,
     "metadata": {},
     "output_type": "execute_result"
    }
   ],
   "source": [
    "import os\n",
    "print(os.getcwd())\n",
    "print(os.listdir())\n",
    "\n",
    "devices = {\n",
    "    'Muvo':'00 02 3c 5c b0 f1',\n",
    "    'UE boom':'88 c6 26 c7 ed b6',\n",
    "    'iphone robin': 'f4 31 c3 8c f1 7d',\n",
    "    'BT': 'e8 08 bf 57 8c 81'\n",
    "}\n",
    "\n",
    "print(summarise('connect_bt/teraterm.log', devices)\n",
    "summarise('soir_exp/teraterm.log', devices)\n",
    "summarise('connect_muvo/teraterm.log', devices)"
   ]
  },
  {
   "cell_type": "code",
   "execution_count": null,
   "metadata": {
    "collapsed": true
   },
   "outputs": [],
   "source": []
  }
 ],
 "metadata": {
  "kernelspec": {
   "display_name": "Python 3",
   "language": "python",
   "name": "python3"
  },
  "language_info": {
   "codemirror_mode": {
    "name": "ipython",
    "version": 3
   },
   "file_extension": ".py",
   "mimetype": "text/x-python",
   "name": "python",
   "nbconvert_exporter": "python",
   "pygments_lexer": "ipython3",
   "version": "3.6.1"
  }
 },
 "nbformat": 4,
 "nbformat_minor": 2
}
