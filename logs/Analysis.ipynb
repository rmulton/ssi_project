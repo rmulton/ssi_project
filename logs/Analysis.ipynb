{
 "cells": [
  {
   "cell_type": "code",
   "execution_count": null,
   "metadata": {
    "collapsed": true
   },
   "outputs": [],
   "source": []
  },
  {
   "cell_type": "code",
   "execution_count": null,
   "metadata": {
    "collapsed": true
   },
   "outputs": [],
   "source": []
  },
  {
   "cell_type": "code",
   "execution_count": null,
   "metadata": {
    "collapsed": true
   },
   "outputs": [],
   "source": []
  },
  {
   "cell_type": "code",
   "execution_count": 3,
   "metadata": {
    "collapsed": true
   },
   "outputs": [],
   "source": [
    "def parse_log(file_content):\n",
    "    content_split = file_content.split('\\n\\n')[1:]\n",
    "    content_split[0] = '\\n'+content_split[0]\n",
    "    content_split\n",
    "    all_pkt = []\n",
    "    for pkt in content_split:\n",
    "        pkt_split = pkt.split('.')\n",
    "        meta = pkt_split[0].split('\\n')\n",
    "        if meta[1]!='':\n",
    "            time = meta[1]\n",
    "            chan = meta[2]\n",
    "            rate = meta[3]\n",
    "            content_pkt_split = pkt_split[1].split('\\n')\n",
    "            content = ''\n",
    "            for el in content_pkt_split[1:]:\n",
    "                content += el[2:]+' '\n",
    "            new_pkt = {\n",
    "                'time':time,\n",
    "                'chan':chan,\n",
    "                'data_rate':rate,\n",
    "                'content': content,\n",
    "                'devices': {}\n",
    "            }\n",
    "            all_pkt += [new_pkt]\n",
    "    return all_pkt"
   ]
  },
  {
   "cell_type": "code",
   "execution_count": null,
   "metadata": {
    "collapsed": true
   },
   "outputs": [],
   "source": []
  },
  {
   "cell_type": "code",
   "execution_count": 4,
   "metadata": {
    "collapsed": true
   },
   "outputs": [],
   "source": [
    "def reverse(addr):\n",
    "    addr = addr.split(' ')\n",
    "    addr = addr[::-1]\n",
    "    reversed_addr = ''\n",
    "    for num in addr:\n",
    "        reversed_addr += num + ' '\n",
    "    reversed_addr = reversed_addr[:-1]\n",
    "    return reversed_addr\n",
    "\n",
    "#print(reverse(devices['Muvo'])=='f1 b0 5c 3c 02 00')\n",
    "def find_devices(pkt_list, devices):\n",
    "    for pkt in pkt_list:\n",
    "        for name, addr in devices.items():\n",
    "            if addr in pkt['content'] or reverse(addr) in pkt['content']:\n",
    "                if name in pkt['devices']:\n",
    "                    pkt['devices'][name] += 1\n",
    "                else:\n",
    "                    pkt['devices'][name] = 1\n",
    "    return pkt_list"
   ]
  },
  {
   "cell_type": "code",
   "execution_count": null,
   "metadata": {
    "collapsed": true
   },
   "outputs": [],
   "source": []
  },
  {
   "cell_type": "code",
   "execution_count": 5,
   "metadata": {
    "collapsed": true
   },
   "outputs": [],
   "source": [
    "def count_devices(all_pkt, devices):\n",
    "    count = {}\n",
    "    for pkt in all_pkt:\n",
    "        for name in devices.keys():\n",
    "            if name in pkt['devices'].keys():\n",
    "                if name in count.keys():\n",
    "                    count[name] += 1\n",
    "                else:\n",
    "                    count[name] = 0\n",
    "    return count, len(all_pkt)"
   ]
  },
  {
   "cell_type": "code",
   "execution_count": null,
   "metadata": {
    "collapsed": true
   },
   "outputs": [],
   "source": []
  },
  {
   "cell_type": "code",
   "execution_count": 6,
   "metadata": {
    "collapsed": true
   },
   "outputs": [],
   "source": [
    "def summarise(log_filepath, devices):\n",
    "    log_file = open(log_filepath, 'r')\n",
    "    content = log_file.read()\n",
    "    packets = parse_log(content)\n",
    "    if packets:\n",
    "        packets = find_devices(packets, devices)\n",
    "        return count_devices(packets, devices)\n",
    "    else:\n",
    "        return {}, 0\n",
    "    \n",
    "def filter_devices(log_filepath, devices):\n",
    "    log_file = open(log_filepath, 'r')\n",
    "    content = log_file.read()\n",
    "    packets = parse_log(content)\n",
    "    for pkt in packets:\n",
    "        for name, addr in devices.items():\n",
    "            if addr in pkt['content'] or reverse(addr) in pkt['content']:\n",
    "                packets.remove(pkt)\n",
    "    return packets"
   ]
  },
  {
   "cell_type": "code",
   "execution_count": 7,
   "metadata": {},
   "outputs": [
    {
     "name": "stdout",
     "output_type": "stream",
     "text": [
      "({'UE boom': 411, 'iphone robin': 335}, 569)\n",
      "26 32 10 0 0 3 c 0 24 ad 3c 91 7a 7c b6 ed c7 26 c6 88 \n",
      "20\n"
     ]
    }
   ],
   "source": [
    "import os\n",
    "\n",
    "devices = {\n",
    "    'Muvo':'00 02 3c 5c b0 f1',\n",
    "    'UE boom':'88 c6 26 c7 ed b6',\n",
    "    'iphone robin': 'f4 31 c3 8c f1 7d',\n",
    "    'BT': 'e8 08 bf 57 8c 81',\n",
    "    'Iphone Nicolas' : 'f4 5c 89 cf b6 a4'\n",
    "}\n",
    "\n",
    "print(summarise('connect_bt/teraterm.log', devices))\n",
    "# print(summarise('soir_exp/teraterm.log', devices))\n",
    "# print(summarise('connect_muvo/teraterm.log', devices))\n",
    "# print(summarise('souris/teraterm.log', devices))\n",
    "# print(filter_devices('souris/teraterm.log', devices))\n",
    "\n",
    "log = parse_log(open('soir_exp/teraterm.log', 'r').read())\n",
    "print(log[0]['content'])\n",
    "print(len(log[0]['content'].split(' ')[:-1]))"
   ]
  },
  {
   "cell_type": "code",
   "execution_count": null,
   "metadata": {},
   "outputs": [],
   "source": []
  },
  {
   "cell_type": "code",
   "execution_count": 92,
   "metadata": {},
   "outputs": [
    {
     "data": {
      "text/plain": [
       "'|'"
      ]
     },
     "execution_count": 92,
     "metadata": {},
     "output_type": "execute_result"
    }
   ],
   "source": []
  },
  {
   "cell_type": "code",
   "execution_count": 37,
   "metadata": {},
   "outputs": [
    {
     "data": {
      "text/plain": [
       "'aaaa'"
      ]
     },
     "execution_count": 37,
     "metadata": {},
     "output_type": "execute_result"
    }
   ],
   "source": []
  },
  {
   "cell_type": "code",
   "execution_count": 57,
   "metadata": {},
   "outputs": [
    {
     "data": {
      "text/plain": [
       "'11111111'"
      ]
     },
     "execution_count": 57,
     "metadata": {},
     "output_type": "execute_result"
    }
   ],
   "source": []
  },
  {
   "cell_type": "code",
   "execution_count": 53,
   "metadata": {},
   "outputs": [
    {
     "data": {
      "text/plain": [
       "255"
      ]
     },
     "execution_count": 53,
     "metadata": {},
     "output_type": "execute_result"
    }
   ],
   "source": []
  },
  {
   "cell_type": "code",
   "execution_count": null,
   "metadata": {
    "collapsed": true
   },
   "outputs": [],
   "source": []
  }
 ],
 "metadata": {
  "kernelspec": {
   "display_name": "Python 3",
   "language": "python",
   "name": "python3"
  },
  "language_info": {
   "codemirror_mode": {
    "name": "ipython",
    "version": 3
   },
   "file_extension": ".py",
   "mimetype": "text/x-python",
   "name": "python",
   "nbconvert_exporter": "python",
   "pygments_lexer": "ipython3",
   "version": "3.6.1"
  }
 },
 "nbformat": 4,
 "nbformat_minor": 2
}
